{
 "cells": [
  {
   "cell_type": "markdown",
   "metadata": {},
   "source": [
    "# Data type"
   ]
  },
  {
   "cell_type": "markdown",
   "metadata": {},
   "source": [
    "# Type checking"
   ]
  },
  {
   "cell_type": "code",
   "execution_count": 18,
   "metadata": {},
   "outputs": [],
   "source": [
    "#int = integer\n",
    "#float = floating\n",
    "#str = string\n",
    "#bool = boolean\n",
    "#none = none"
   ]
  },
  {
   "cell_type": "code",
   "execution_count": null,
   "metadata": {},
   "outputs": [],
   "source": [
    "print(type(1))\n",
    "print(isinstance(1, int))"
   ]
  },
  {
   "cell_type": "markdown",
   "metadata": {},
   "source": [
    "## Day3"
   ]
  },
  {
   "cell_type": "markdown",
   "metadata": {},
   "source": []
  },
  {
   "cell_type": "code",
   "execution_count": null,
   "metadata": {},
   "outputs": [],
   "source": [
    "age = 18\n",
    "firstname = \"Arm\"\n",
    "is_odd = False\n",
    "\n",
    "age = 19\n",
    "print(age)"
   ]
  },
  {
   "cell_type": "code",
   "execution_count": 21,
   "metadata": {},
   "outputs": [],
   "source": [
    "a = 1\n",
    "b = 2\n",
    "\n",
    "first_number = 1\n",
    "second_number = 2"
   ]
  },
  {
   "cell_type": "code",
   "execution_count": null,
   "metadata": {},
   "outputs": [],
   "source": [
    "name = \"fjfa\" #OK\n",
    "Age = 17 #bad\n",
    "first_number = 1 #OK\n",
    "1var #bad"
   ]
  },
  {
   "cell_type": "code",
   "execution_count": null,
   "metadata": {},
   "outputs": [],
   "source": [
    "#reserved variables (should not use!)\n",
    "False"
   ]
  },
  {
   "cell_type": "markdown",
   "metadata": {},
   "source": [
    "# Input"
   ]
  },
  {
   "cell_type": "code",
   "execution_count": null,
   "metadata": {},
   "outputs": [],
   "source": [
    "name = input()\n",
    "print(\"Hello\", \"welcome\", name)"
   ]
  },
  {
   "cell_type": "code",
   "execution_count": null,
   "metadata": {},
   "outputs": [],
   "source": [
    "# int()\n",
    "a = int(\"4\")\n",
    "a = int(\"-1\")\n",
    "a = int(True)\n",
    "# a = int(\"True\")\n",
    "a = int(2.4)\n",
    "a = int(-2.4)\n",
    "# a = int(\"2.4\")\n",
    "# a = int(\"-2.4\")\n",
    "print(a, type(a))"
   ]
  },
  {
   "cell_type": "code",
   "execution_count": null,
   "metadata": {},
   "outputs": [],
   "source": [
    "# float()\n",
    "a = float(-2)\n",
    "a = float(\"-2\")\n",
    "a = float(\"-2.4\")\n",
    "a = float(True)\n",
    "a = float(False)\n",
    "# a = float(\"True\")\n",
    "print(a, type(a))"
   ]
  },
  {
   "cell_type": "code",
   "execution_count": null,
   "metadata": {},
   "outputs": [],
   "source": [
    "# bool()\n",
    "a = bool(1)\n",
    "a = bool(3)\n",
    "a = bool(-2)\n",
    "a = bool(0)\n",
    "a = bool(0.1)\n",
    "a = bool(0.0)\n",
    "a = bool(\"\")\n",
    "a = bool([])\n",
    "a = bool(None)\n",
    "print(a, type(a))"
   ]
  },
  {
   "cell_type": "code",
   "execution_count": null,
   "metadata": {},
   "outputs": [],
   "source": [
    "# str()\n",
    "a = str(1)\n",
    "a = str(True)\n",
    "a = str(2.5)\n",
    "a = str(None)\n",
    "a = str(print)\n",
    "a = str(print())\n",
    "print(a, type(a))"
   ]
  },
  {
   "cell_type": "code",
   "execution_count": null,
   "metadata": {},
   "outputs": [],
   "source": [
    "a = bool(str(float(-2)))\n",
    "print(a, type(a))"
   ]
  },
  {
   "cell_type": "markdown",
   "metadata": {},
   "source": [
    "# Math Operations"
   ]
  },
  {
   "cell_type": "code",
   "execution_count": null,
   "metadata": {},
   "outputs": [],
   "source": [
    "a = 1 + 1\n",
    "a = 6 - 3\n",
    "a = 4 * 5\n",
    "a = int(6 / 3)\n",
    "a = 6 // 3\n",
    "a = 7 / 3\n",
    "a = 7 // 3\n",
    "a = 2 ** 3\n",
    "a = 7 % 3\n",
    "a = 54 % 5\n",
    "a = 32.2 % 3\n",
    "a = 10 % 3.3\n",
    "a\n",
    "\n"
   ]
  },
  {
   "cell_type": "code",
   "execution_count": null,
   "metadata": {},
   "outputs": [],
   "source": [
    "a = 0 ** 0\n",
    "a = 9 % 0\n",
    "a"
   ]
  },
  {
   "cell_type": "code",
   "execution_count": null,
   "metadata": {},
   "outputs": [],
   "source": [
    "10.0 - 10"
   ]
  },
  {
   "cell_type": "code",
   "execution_count": null,
   "metadata": {},
   "outputs": [],
   "source": [
    "0.1 + 0.2"
   ]
  },
  {
   "cell_type": "code",
   "execution_count": null,
   "metadata": {},
   "outputs": [],
   "source": [
    "# 12.9 -> 12.0\n",
    "float(int(12.9))\n",
    "12.9 // 1"
   ]
  },
  {
   "cell_type": "markdown",
   "metadata": {},
   "source": [
    "# Order of operations"
   ]
  },
  {
   "cell_type": "code",
   "execution_count": null,
   "metadata": {},
   "outputs": [],
   "source": [
    "# () -> ** -> */ -> +-\n",
    "# PEMDAS\n",
    "a = (2 * 2) - (2 / 2) - (2 ** 2) # 1st way to reorganize\n",
    "a = 2*2 - 2/2 - 2**2 # 2nd way to reorganize\n",
    "b = 2 * 2 -2 / 2 - 4\n",
    "c = 4 - 1 - 4\n",
    "d = -1"
   ]
  },
  {
   "cell_type": "code",
   "execution_count": null,
   "metadata": {},
   "outputs": [],
   "source": [
    "a = 4 + 4\n",
    "b = 3 * 2\n",
    "a = a + 4\n",
    "a = b / a\n",
    "print(a, b)"
   ]
  },
  {
   "cell_type": "code",
   "execution_count": null,
   "metadata": {},
   "outputs": [],
   "source": [
    "a = 1\n",
    "a = a + 4 # SAME\n",
    "a += 4 # SAME\n",
    "a -= 3 # SAME TO a = a - 3\n",
    "a *= 2\n",
    "a /= 6 # SAME TO a = a / 6\n",
    "a **= 5\n",
    "a"
   ]
  },
  {
   "cell_type": "markdown",
   "metadata": {},
   "source": [
    "# Logical Operators"
   ]
  },
  {
   "cell_type": "code",
   "execution_count": null,
   "metadata": {},
   "outputs": [],
   "source": [
    "a = 5\n",
    "\n",
    "2 > 3\n",
    "a < 7\n",
    "a == 6\n",
    "a >= 5\n",
    "a <= 2\n",
    "a != 5"
   ]
  },
  {
   "cell_type": "code",
   "execution_count": null,
   "metadata": {},
   "outputs": [],
   "source": [
    "# not, and, or\n",
    "not True\n",
    "not False\n",
    "\n",
    "True and True\n",
    "False and True\n",
    "False and False\n",
    "2 > 3 and 3 > 1\n",
    "\n",
    "True or True\n",
    "False or True\n",
    "True or False\n",
    "False or False\n",
    "\n",
    "a = 5\n",
    "b = 6\n",
    "print(a != b-1 or b**2 > a)"
   ]
  },
  {
   "cell_type": "code",
   "execution_count": null,
   "metadata": {},
   "outputs": [],
   "source": [
    "user_input = int(input())\n",
    "user_firstname = input()\n",
    "user_age = input()"
   ]
  },
  {
   "cell_type": "markdown",
   "metadata": {},
   "source": [
    "## Adder Program\n"
   ]
  },
  {
   "cell_type": "code",
   "execution_count": null,
   "metadata": {},
   "outputs": [],
   "source": [
    "first_number = int(input(\"Enter first number: \"))\n",
    "second_number = int(input(\"Enter second number: \"))\n",
    "#print(first_number, second_number)\n",
    "added_result = first_number + second_number\n",
    "print(added_result)"
   ]
  },
  {
   "cell_type": "markdown",
   "metadata": {},
   "source": [
    "# Math Functions"
   ]
  },
  {
   "cell_type": "code",
   "execution_count": null,
   "metadata": {},
   "outputs": [],
   "source": [
    "abs(-13)\n",
    "abs(-12.45)\n",
    "abs(-1.0)"
   ]
  },
  {
   "cell_type": "code",
   "execution_count": null,
   "metadata": {},
   "outputs": [],
   "source": [
    "max(23, 5, -2, 0)\n",
    "min(23, 5, -2, 0)"
   ]
  },
  {
   "cell_type": "code",
   "execution_count": null,
   "metadata": {},
   "outputs": [],
   "source": [
    "round(2.45, 1)\n",
    "round(-1.2563, 3)\n",
    "round(985, -2)"
   ]
  },
  {
   "cell_type": "markdown",
   "metadata": {},
   "source": [
    "# Turtle Library"
   ]
  },
  {
   "cell_type": "code",
   "execution_count": null,
   "metadata": {},
   "outputs": [],
   "source": [
    "import turtle as tur\n",
    "import colorsys as cs\n",
    "\n",
    "tur.setup(800,800)\n",
    "tur.speed(0)\n",
    "tur.tracer(10)\n",
    "tur.width(2)\n",
    "tur.bgcolor(\"black\")\n",
    "for j in range(25):\n",
    "    for i in range(15):\n",
    "        tur.color(cs.hsv_to_rgb(i/15,j/25,1))\n",
    "        tur.right(90)\n",
    "        tur.circle(200-j*4,90)\n",
    "        tur.left(90)\n",
    "        tur.circle(200-j*4,90)\n",
    "        tur.right(180)\n",
    "        tur.circle(50,24)\n",
    "tur.hideturtle\n",
    "tur.done()\n"
   ]
  },
  {
   "cell_type": "code",
   "execution_count": 1,
   "metadata": {},
   "outputs": [],
   "source": [
    "import turtle \n",
    "\n",
    "turtle.speed(1)\n",
    "turtle.shape(\"turtle\")\n",
    "\n",
    "turtle.forward(200)\n",
    "turtle.left(90) # turn left 90\n",
    "turtle.forward(200)\n",
    "turtle.left(90)\n",
    "turtle.forward(200)\n",
    "turtle.left(90)\n",
    "turtle.forward(200)\n",
    "\n",
    "turtle.forward(200)\n",
    "turtle.right(90)\n",
    "turtle.forward(200)\n",
    "\n",
    "turtle.backward(100)\n",
    "turtle.color('red')\n",
    "turtle.backward(100)\n",
    "\n",
    "turtle.penup()\n",
    "\n",
    "turtle.pendown()\n",
    "\n",
    "turtle.width(3)\n",
    "turtle.circle(100, 180)\n",
    "\n",
    "turtle.mainloop()"
   ]
  },
  {
   "cell_type": "markdown",
   "metadata": {},
   "source": [
    "# Loops"
   ]
  },
  {
   "cell_type": "markdown",
   "metadata": {},
   "source": [
    "## While loop"
   ]
  },
  {
   "cell_type": "code",
   "execution_count": null,
   "metadata": {},
   "outputs": [],
   "source": [
    "Syntax\n",
    "\n",
    "while CONDITION:\n",
    "    ACTION"
   ]
  },
  {
   "cell_type": "code",
   "execution_count": null,
   "metadata": {},
   "outputs": [],
   "source": [
    "while True:\n",
    "    print(\"Hello\") # run endlessly"
   ]
  },
  {
   "cell_type": "code",
   "execution_count": null,
   "metadata": {},
   "outputs": [],
   "source": [
    "# 1,2,3,4,5,6,7,8,9,10\n",
    "\n",
    "number = 1\n",
    "while number <= 10:\n",
    "    print(number)\n",
    "    number += 1 #number = number + 1"
   ]
  },
  {
   "cell_type": "code",
   "execution_count": null,
   "metadata": {},
   "outputs": [],
   "source": [
    "# 2,4,6,8,...,20\n",
    "num = 2\n",
    "while num <= 20:\n",
    "    print(num)\n",
    "    num += 2"
   ]
  },
  {
   "cell_type": "code",
   "execution_count": null,
   "metadata": {},
   "outputs": [],
   "source": [
    "number = 1\n",
    "while number <= 20:\n",
    "    if number % 2 == 0:\n",
    "        print(number)\n",
    "    else:\n",
    "        number += 1\n",
    "\n",
    "# number = 1\n",
    "# while 1 <= 20\n",
    "# if 1 % 2 == 0: -> False\n",
    "# else:\n",
    "# number += 1\n",
    "# number = 2\n",
    "# while 2 <= 20\n",
    "# if 2 % 2 == 0: -> True"
   ]
  },
  {
   "cell_type": "markdown",
   "metadata": {},
   "source": [
    "## break, continue, pass"
   ]
  },
  {
   "cell_type": "code",
   "execution_count": null,
   "metadata": {},
   "outputs": [],
   "source": [
    "number = 1\n",
    "while True:\n",
    "    print(number)\n",
    "    if number % 3 == 0 and number % 2 == 0:\n",
    "        break\n",
    "    #if number == 2:\n",
    "        #continue\n",
    "    if number == 2:\n",
    "        pass\n",
    "    number += 1"
   ]
  },
  {
   "cell_type": "markdown",
   "metadata": {},
   "source": [
    "## For loop"
   ]
  },
  {
   "cell_type": "markdown",
   "metadata": {},
   "source": [
    "#### range(start, stop, step)"
   ]
  },
  {
   "cell_type": "code",
   "execution_count": null,
   "metadata": {},
   "outputs": [],
   "source": [
    "range(6) # 0,1,2,3,4,5\n",
    "range(10) # 0-9\n",
    "range(1) # 0\n",
    "range(0) # Nothing\n",
    "range(-3) # Nothing\n",
    "\n",
    "range(2, 6) # 2,3,4,5\n",
    "range(-1, 3) #\n",
    "range(5, 2) # Nothing\n",
    "\n",
    "range(3, 9, 2) # 3,5,7\n",
    "range(-3, 7, 3) # -3,0,3,6\n",
    "range(10, -1, -2) # 10,8,6,4,2,0"
   ]
  },
  {
   "cell_type": "code",
   "execution_count": null,
   "metadata": {},
   "outputs": [],
   "source": [
    "for variable_name in range(SOMETHING):\n",
    "    DO_SOMETHING"
   ]
  },
  {
   "cell_type": "code",
   "execution_count": null,
   "metadata": {},
   "outputs": [],
   "source": [
    "for number in range(20, 5, -3):\n",
    "    if number % 2 == 0:\n",
    "        print(number)"
   ]
  },
  {
   "cell_type": "code",
   "execution_count": null,
   "metadata": {},
   "outputs": [],
   "source": [
    "for num in range(1, 11):\n",
    "    print(num ** 2)"
   ]
  },
  {
   "cell_type": "markdown",
   "metadata": {},
   "source": [
    "## Nested loop"
   ]
  },
  {
   "cell_type": "code",
   "execution_count": null,
   "metadata": {},
   "outputs": [],
   "source": [
    "while True:\n",
    "    for i in range(10):\n",
    "        while True:\n",
    "            if True:\n",
    "                pass\n",
    "            elif True:\n",
    "                pass\n",
    "    "
   ]
  },
  {
   "cell_type": "code",
   "execution_count": null,
   "metadata": {},
   "outputs": [],
   "source": [
    "for first_number in range(5):\n",
    "    for second_number in range(6):\n",
    "        print(first_number, second_number)"
   ]
  },
  {
   "cell_type": "code",
   "execution_count": null,
   "metadata": {},
   "outputs": [],
   "source": [
    "for i in range(2, 5):\n",
    "    for j in range(2, 6, 2):\n",
    "        print(i, j)"
   ]
  },
  {
   "cell_type": "code",
   "execution_count": null,
   "metadata": {},
   "outputs": [],
   "source": [
    "i = 2\n",
    "while i < 5:\n",
    "    for j in range(1, 5, 2):\n",
    "        print(i, j)\n",
    "        i += 1"
   ]
  },
  {
   "cell_type": "markdown",
   "metadata": {},
   "source": [
    "# String"
   ]
  },
  {
   "cell_type": "code",
   "execution_count": null,
   "metadata": {},
   "outputs": [],
   "source": [
    "empty_string = \"\"\n",
    "empty_string = ''\n",
    "empty_string = \"\"\"\"\"\"\n",
    "empty_string = str()\n",
    "\n",
    "s = \"Jedi loves Ve\"\n",
    "s = \"\"\"\n",
    "Jedi loves Ve\n",
    "Jedi loves pizza\n",
    "...\n",
    "\"\"\"\n",
    "\n",
    "my_sentence = 'I am a boy'\n",
    "# my_sentence = 'I'm a boy' # NOT POSSIBLE\n",
    "my_sentence = \"I'm a boy\"\n",
    "quote = \"she said that \\\"I'm a boy\\\"\"\n",
    "\n",
    "s1 = \"Hello,\"\n",
    "s2 = \" Vetit\"\n",
    "s1 + s2"
   ]
  },
  {
   "cell_type": "code",
   "execution_count": null,
   "metadata": {},
   "outputs": [],
   "source": [
    "s3 = \"Palm\"\n",
    "s4 = s3 * 3 # s3 + s3 + s3\n",
    "s4"
   ]
  },
  {
   "cell_type": "markdown",
   "metadata": {},
   "source": [
    "# Indexing"
   ]
  },
  {
   "cell_type": "code",
   "execution_count": null,
   "metadata": {},
   "outputs": [],
   "source": [
    "s = \"Hello, world!\"\n",
    "s = \"Bangkok, Thailand: 100C\"\n",
    "s[4]\n",
    "s[-1]"
   ]
  },
  {
   "cell_type": "markdown",
   "metadata": {},
   "source": [
    "## Slicing"
   ]
  },
  {
   "cell_type": "code",
   "execution_count": null,
   "metadata": {},
   "outputs": [],
   "source": [
    "s = \"I love peacock!\"\n",
    "s[1:8] # 1-7\n",
    "s[1:8:2] #1,3,5,7\n",
    "s[-3:-10:-2] #-3, -5, -7, -9\n",
    "s[:6] # 0,1,2,3,4,5\n",
    "s[9:]\n",
    "s[:]\n",
    "s[::2]\n",
    "s[::-1]\n",
    "s[-15:15]\n",
    "s1 = s[:6]\n",
    "s2 = s[10:]\n",
    "s1 + \" \" + s2"
   ]
  },
  {
   "cell_type": "markdown",
   "metadata": {},
   "source": [
    "# f-string (String Format)"
   ]
  },
  {
   "cell_type": "code",
   "execution_count": null,
   "metadata": {},
   "outputs": [],
   "source": [
    "user_name = input()\n",
    "age = input()\n",
    "birthdate = input()\n",
    "\n",
    "greeting_msg = \"Hello, \" + user_name + \". Your age is \" + age \\\n",
    "    + \", and your birth date is \" + birthdate + \".\"\n",
    "greeting_msg_formatted = f\"Hello, {user_name}. Your age is {age}, and your birthdate is {birthdate}\"\n",
    "\n",
    "print(greeting_msg)\n",
    "print(greeting_msg_formatted)"
   ]
  },
  {
   "cell_type": "markdown",
   "metadata": {},
   "source": [
    "# Spliting"
   ]
  },
  {
   "cell_type": "code",
   "execution_count": null,
   "metadata": {},
   "outputs": [],
   "source": [
    "greeting_msg_formatted.split()"
   ]
  },
  {
   "cell_type": "code",
   "execution_count": null,
   "metadata": {},
   "outputs": [],
   "source": [
    "s = \"I love banana\"\n",
    "s.split()"
   ]
  },
  {
   "cell_type": "markdown",
   "metadata": {},
   "source": [
    "# in/not in operators"
   ]
  },
  {
   "cell_type": "code",
   "execution_count": null,
   "metadata": {},
   "outputs": [],
   "source": [
    "s = \"I love peacock!\"\n",
    "print(\"c\" in s)\n",
    "print(\"  \" in s)\n",
    "print(\"ov\" in s)\n",
    "print(\"ep\" in s)\n",
    "print(\"oe\" in s)"
   ]
  },
  {
   "cell_type": "code",
   "execution_count": null,
   "metadata": {},
   "outputs": [],
   "source": [
    "s = \"I love peacock!\"\n",
    "if \"o\" in s:\n",
    "    print(\"YAY\")\n",
    "elif \"c\" in s:\n",
    "    print(\"SKY\")\n",
    "else:\n",
    "    print(\"Palm\" * 5)\n",
    "\n",
    "if \" \" not in s or s[4] == \"v\":\n",
    "    print(\"HELLO\")\n",
    "else:\n",
    "    print(\"WORLD!\")\n"
   ]
  },
  {
   "cell_type": "code",
   "execution_count": null,
   "metadata": {},
   "outputs": [],
   "source": [
    "s = \"I love peacock!\"\n",
    "result = s.count(\"c\")\n",
    "print(result)"
   ]
  },
  {
   "cell_type": "code",
   "execution_count": null,
   "metadata": {},
   "outputs": [],
   "source": [
    "s.capitalize()\n",
    "s.upper()\n",
    "s.lower()\n",
    "s = \"I LOVE PEACOCK!\"\n",
    "s.isupper()\n",
    "new_string = s.replace(\"O\", \"I\")"
   ]
  },
  {
   "cell_type": "code",
   "execution_count": null,
   "metadata": {},
   "outputs": [],
   "source": [
    "s = \"i love peacock\"\n",
    "for i in range(14):\n",
    "    print(s[i])"
   ]
  },
  {
   "cell_type": "markdown",
   "metadata": {},
   "source": [
    "loop by index"
   ]
  },
  {
   "cell_type": "code",
   "execution_count": null,
   "metadata": {},
   "outputs": [],
   "source": [
    "s = \"i lov\"\n",
    "for i in range(len(s)):\n",
    "    print(s[i])"
   ]
  },
  {
   "cell_type": "markdown",
   "metadata": {},
   "source": [
    "Enumerate"
   ]
  },
  {
   "cell_type": "code",
   "execution_count": null,
   "metadata": {},
   "outputs": [],
   "source": [
    "s = \"i love peacock!\"\n",
    "for i, character in enumerate(s):\n",
    "    print(i, character)"
   ]
  },
  {
   "cell_type": "markdown",
   "metadata": {},
   "source": [
    "# Container"
   ]
  },
  {
   "cell_type": "markdown",
   "metadata": {},
   "source": [
    "## List"
   ]
  },
  {
   "cell_type": "code",
   "execution_count": null,
   "metadata": {},
   "outputs": [],
   "source": [
    "empty_list = []\n",
    "empty_list = list()\n",
    "\n",
    "numbers = [1, 2, 3, 4]\n",
    "my_list = [1, 0.2, True, \"Vetit\", None, [], [1, 2], print, input, empty_list]"
   ]
  },
  {
   "cell_type": "markdown",
   "metadata": {},
   "source": [
    "# Length, Indexing, Slicing, Loop"
   ]
  },
  {
   "cell_type": "code",
   "execution_count": null,
   "metadata": {},
   "outputs": [],
   "source": [
    "l = [1, True, 0.5]\n",
    "len()"
   ]
  },
  {
   "cell_type": "code",
   "execution_count": null,
   "metadata": {},
   "outputs": [],
   "source": [
    "s = \"Vetit\"\n",
    "s[3]\n",
    "l[2]\n",
    "l[-1]"
   ]
  },
  {
   "cell_type": "code",
   "execution_count": null,
   "metadata": {},
   "outputs": [],
   "source": [
    "l = [1, True, 0.5, \"Palm\", None, print]\n",
    "l[1:3] # 1, 2\n",
    "l[::-1]"
   ]
  },
  {
   "cell_type": "code",
   "execution_count": null,
   "metadata": {},
   "outputs": [],
   "source": [
    "l = [1, 2, 0.5, None, 1, \"Vetit\"]\n",
    "l[1] = 3\n",
    "l[5][1]"
   ]
  },
  {
   "cell_type": "markdown",
   "metadata": {},
   "source": [
    "# Modifying Out List"
   ]
  },
  {
   "cell_type": "markdown",
   "metadata": {},
   "source": [
    "## Add"
   ]
  },
  {
   "cell_type": "code",
   "execution_count": null,
   "metadata": {},
   "outputs": [],
   "source": [
    "l = [1, 2, 3]\n",
    "l.append(4)\n",
    "l\n",
    "l.insert(0, True)\n",
    "l\n",
    "l.extend([5, 6, 7, 8, 9, 10])\n",
    "l += [5, 6, 7, 8, 9, 10] # same as previous line\n",
    "l"
   ]
  },
  {
   "cell_type": "code",
   "execution_count": null,
   "metadata": {},
   "outputs": [],
   "source": [
    "a = [1, 2, 3]\n",
    "b = [4, 5, 6]\n",
    "# c = [[1, 2, 3], [4, 5, 6]]\n",
    "c = []\n",
    "c.extend([a, b])\n",
    "c"
   ]
  },
  {
   "cell_type": "code",
   "execution_count": null,
   "metadata": {},
   "outputs": [],
   "source": [
    "l = [1, 2, 3]\n",
    "last_element = l.pop(1)\n",
    "last_element"
   ]
  },
  {
   "cell_type": "code",
   "execution_count": null,
   "metadata": {},
   "outputs": [],
   "source": [
    "l = [1, True, 0.5, None, 1, print]\n",
    "l.remove(1)\n",
    "l"
   ]
  },
  {
   "cell_type": "code",
   "execution_count": null,
   "metadata": {},
   "outputs": [],
   "source": [
    "l = [1, True, 0.5, None, 1, \"Vetit\"]\n",
    "for 1 in l:\n",
    "    print(element)\n",
    "    if element == 1:\n",
    "        l.remove(element)\n",
    "\n",
    "# print()"
   ]
  },
  {
   "cell_type": "code",
   "execution_count": null,
   "metadata": {},
   "outputs": [],
   "source": [
    "l = [1, 2, 0.5, None, 1, \"Vetit\"]\n",
    "count_of_one = l.count(1)\n",
    "\n",
    "for i in range(count_of_one):\n",
    "    l.remove(1)\n",
    "l"
   ]
  },
  {
   "cell_type": "code",
   "execution_count": null,
   "metadata": {},
   "outputs": [],
   "source": [
    "l = [1, 2, 0.5, None, 1, \"Vetit\"]\n",
    "new_list = []\n",
    "\n",
    "for element in l:\n",
    "    if element != 1:\n",
    "        new_list.append(element)\n",
    "\n",
    "new_list"
   ]
  },
  {
   "cell_type": "markdown",
   "metadata": {},
   "source": [
    "## Update/Change the element"
   ]
  },
  {
   "cell_type": "code",
   "execution_count": null,
   "metadata": {},
   "outputs": [],
   "source": [
    "l = [1, 2, 0.5, None, 1, \"Vetit\"]\n",
    "l[1] = 3\n"
   ]
  },
  {
   "cell_type": "markdown",
   "metadata": {},
   "source": [
    "# *list (List extractor)"
   ]
  },
  {
   "cell_type": "code",
   "execution_count": null,
   "metadata": {},
   "outputs": [],
   "source": [
    "l = [1, True, 0.5, \"Palm\", None, print]\n",
    "print(*l)"
   ]
  },
  {
   "cell_type": "code",
   "execution_count": 26,
   "metadata": {},
   "outputs": [],
   "source": [
    "zeroes = [0] * 10\n",
    "[3] + [2]\n"
   ]
  },
  {
   "cell_type": "code",
   "execution_count": null,
   "metadata": {},
   "outputs": [],
   "source": [
    "l = [1, 2, 1, 3, 1, 4]\n",
    "l.reverse()\n",
    "l"
   ]
  },
  {
   "cell_type": "code",
   "execution_count": null,
   "metadata": {},
   "outputs": [],
   "source": [
    "l = [1, 2, 1, 3, 1, 4]\n",
    "l.sort(reverse=True)\n",
    "l"
   ]
  },
  {
   "cell_type": "code",
   "execution_count": null,
   "metadata": {},
   "outputs": [],
   "source": [
    "l = ['Vetit', 'Due']\n",
    "l.sort()\n",
    "l"
   ]
  },
  {
   "cell_type": "markdown",
   "metadata": {},
   "source": [
    "## in/not in"
   ]
  },
  {
   "cell_type": "code",
   "execution_count": null,
   "metadata": {},
   "outputs": [],
   "source": [
    "s = 'I love pea'\n",
    "'v' in s"
   ]
  },
  {
   "cell_type": "code",
   "execution_count": null,
   "metadata": {},
   "outputs": [],
   "source": [
    "l = [1, 2, 1, 3, 1, 4]\n",
    "1 not in l\n",
    "print([1, 2] in l) #False\n",
    "print([3] in l)"
   ]
  },
  {
   "cell_type": "code",
   "execution_count": null,
   "metadata": {},
   "outputs": [],
   "source": [
    "l = [1, 2, 1, 3, 1, 4, [3]]\n",
    "if 5 in l:\n",
    "    print(\"YAY\")\n",
    "else:\n",
    "    print(\"NOOO\")"
   ]
  },
  {
   "cell_type": "markdown",
   "metadata": {},
   "source": [
    "#### map"
   ]
  },
  {
   "cell_type": "code",
   "execution_count": null,
   "metadata": {},
   "outputs": [],
   "source": [
    "l = [1.5, 2.5, 3.5]\n",
    "list(map(int, l))"
   ]
  },
  {
   "cell_type": "code",
   "execution_count": null,
   "metadata": {},
   "outputs": [],
   "source": [
    "l = [0, 1, 0.0]\n",
    "list(map(str, l))"
   ]
  },
  {
   "cell_type": "code",
   "execution_count": null,
   "metadata": {},
   "outputs": [],
   "source": [
    "l = list(map(int, input().split()))"
   ]
  },
  {
   "cell_type": "markdown",
   "metadata": {},
   "source": [
    "## in code"
   ]
  },
  {
   "cell_type": "code",
   "execution_count": null,
   "metadata": {},
   "outputs": [],
   "source": [
    "l = input().split()\n",
    "list(map(int, l))"
   ]
  },
  {
   "cell_type": "markdown",
   "metadata": {},
   "source": [
    "# Tuple"
   ]
  },
  {
   "cell_type": "markdown",
   "metadata": {},
   "source": [
    "Tuple is a list but\n",
    "1. immutable (cannot be changed, added, or deleted)"
   ]
  },
  {
   "cell_type": "code",
   "execution_count": null,
   "metadata": {},
   "outputs": [],
   "source": [
    "empty_list = []\n",
    "empty_tuple = ()\n",
    "empty_tuple = tuple()\n",
    "\n",
    "t = (1, 2, 3)\n",
    "one_element_tuple = (2,)\n",
    "\n",
    "type(one_element_tuple)"
   ]
  },
  {
   "cell_type": "markdown",
   "metadata": {},
   "source": [
    "# Action"
   ]
  },
  {
   "cell_type": "markdown",
   "metadata": {},
   "source": [
    "## All actions\n",
    "### List\n",
    "- if else elif\n",
    "- loops\n",
    "- in/ not in\n",
    "- add ele\n",
    "- remove ele\n",
    "- change ele\n",
    "- .count()\n",
    "- .sort(), .reverse()\n",
    "- len()\n",
    "- *list\n",
    "- map()\n",
    "- list * 5\n",
    "- list1 + list2\n"
   ]
  },
  {
   "cell_type": "code",
   "execution_count": null,
   "metadata": {},
   "outputs": [],
   "source": [
    "t = (7,4,1)\n",
    "ti = sorted(t)\n",
    "ti"
   ]
  },
  {
   "cell_type": "code",
   "execution_count": null,
   "metadata": {},
   "outputs": [],
   "source": [
    "tuple(map(int, input().split()))"
   ]
  },
  {
   "cell_type": "code",
   "execution_count": null,
   "metadata": {},
   "outputs": [],
   "source": [
    "t = (4, 1, 3)\n",
    "t * 5"
   ]
  },
  {
   "cell_type": "code",
   "execution_count": null,
   "metadata": {},
   "outputs": [],
   "source": [
    "t1 = (1, 2, 3)\n",
    "t2 = (4, 5, 6)\n",
    "t3 = t1 + t2"
   ]
  },
  {
   "cell_type": "markdown",
   "metadata": {},
   "source": [
    "1. Something that should not be changed\n",
    "2. Lower memory and CPU usage (relative to list)\n",
    "3. Only Immutable object (in python!) that stores sequence of data"
   ]
  },
  {
   "cell_type": "markdown",
   "metadata": {},
   "source": [
    "# Set"
   ]
  },
  {
   "cell_type": "markdown",
   "metadata": {},
   "source": [
    "## Set operations"
   ]
  },
  {
   "cell_type": "markdown",
   "metadata": {},
   "source": [
    "- union\n",
    "- intersection\n",
    "- difference"
   ]
  },
  {
   "cell_type": "code",
   "execution_count": 1,
   "metadata": {},
   "outputs": [
    {
     "data": {
      "text/plain": [
       "{1, 2, 3}"
      ]
     },
     "execution_count": 1,
     "metadata": {},
     "output_type": "execute_result"
    }
   ],
   "source": [
    "empty_set = set()\n",
    "non_empty_set = {1, 2, 3, 3}\n",
    "non_empty_set"
   ]
  },
  {
   "cell_type": "code",
   "execution_count": null,
   "metadata": {},
   "outputs": [],
   "source": [
    "l = [1, 2, 3, 3, 4]\n",
    "t = (1, 2, 3, 4, 4, 5)\n",
    "set(t)"
   ]
  },
  {
   "cell_type": "markdown",
   "metadata": {},
   "source": [
    "### union"
   ]
  },
  {
   "cell_type": "code",
   "execution_count": 2,
   "metadata": {},
   "outputs": [
    {
     "data": {
      "text/plain": [
       "{1, 2, 3, 4, 5}"
      ]
     },
     "execution_count": 2,
     "metadata": {},
     "output_type": "execute_result"
    }
   ],
   "source": [
    "a = {1, 2, 3}\n",
    "b = {3, 4, 5}\n",
    "a.union(b)\n",
    "a | b"
   ]
  },
  {
   "cell_type": "markdown",
   "metadata": {},
   "source": [
    "### intersection"
   ]
  },
  {
   "cell_type": "code",
   "execution_count": null,
   "metadata": {},
   "outputs": [],
   "source": [
    "a.intersection(b)\n",
    "a & b"
   ]
  },
  {
   "cell_type": "code",
   "execution_count": null,
   "metadata": {},
   "outputs": [],
   "source": [
    "a.difference(b)\n",
    "a-b\n",
    "b-a\n",
    "b.difference(a)"
   ]
  },
  {
   "cell_type": "markdown",
   "metadata": {},
   "source": [
    "### In/ not in"
   ]
  },
  {
   "cell_type": "code",
   "execution_count": 3,
   "metadata": {},
   "outputs": [
    {
     "data": {
      "text/plain": [
       "True"
      ]
     },
     "execution_count": 3,
     "metadata": {},
     "output_type": "execute_result"
    }
   ],
   "source": [
    "s = {1, 2, 3}\n",
    "l = [1, 2, 3]\n",
    "0 in l\n",
    "0 not in s"
   ]
  },
  {
   "cell_type": "code",
   "execution_count": null,
   "metadata": {},
   "outputs": [],
   "source": [
    "if 1 in s:\n",
    "    print('YAY')\n",
    "else:\n",
    "    print('I love pea!')"
   ]
  },
  {
   "cell_type": "markdown",
   "metadata": {},
   "source": [
    "### loop"
   ]
  },
  {
   "cell_type": "code",
   "execution_count": null,
   "metadata": {},
   "outputs": [],
   "source": [
    "s = {1, 2, 3}\n",
    "for ele in s:\n",
    "    print(ele)"
   ]
  },
  {
   "cell_type": "code",
   "execution_count": 4,
   "metadata": {},
   "outputs": [
    {
     "name": "stdout",
     "output_type": "stream",
     "text": [
      "0 dog\n",
      "1 cat\n",
      "2 apple\n",
      "3 banana\n"
     ]
    }
   ],
   "source": [
    "s = {'apple', 'banana', 'cat', 'dog'}\n",
    "for i, ele in enumerate(s):\n",
    "    print(i, ele)"
   ]
  },
  {
   "cell_type": "code",
   "execution_count": 5,
   "metadata": {},
   "outputs": [
    {
     "data": {
      "text/plain": [
       "-786435694387746787"
      ]
     },
     "execution_count": 5,
     "metadata": {},
     "output_type": "execute_result"
    }
   ],
   "source": [
    "hash('apple')"
   ]
  },
  {
   "cell_type": "markdown",
   "metadata": {},
   "source": [
    "## Dictionary"
   ]
  },
  {
   "cell_type": "code",
   "execution_count": null,
   "metadata": {},
   "outputs": [],
   "source": [
    "empty_dict = {}\n",
    "empty_dict = dict()\n",
    "\n",
    "animals_legs = {'hourse': 4, 'human': 2, 'fish': 'zero'}"
   ]
  },
  {
   "cell_type": "code",
   "execution_count": null,
   "metadata": {},
   "outputs": [],
   "source": [
    "# d = {[1, 2]: 'NO'}\n",
    "# d = {{1, 2}: 'NO'}\n",
    "d = {(1, 2): 'NO'}\n",
    "d = {True: 'NO'}"
   ]
  },
  {
   "cell_type": "markdown",
   "metadata": {},
   "source": [
    "### calling"
   ]
  },
  {
   "cell_type": "code",
   "execution_count": null,
   "metadata": {},
   "outputs": [],
   "source": [
    "animals_legs = {'horse': 4, 'human': 2, 'fish': 0, 'monkey': 3, 'pig': 3, (1,2): 0}\n",
    "animals_legs['horse']"
   ]
  },
  {
   "cell_type": "markdown",
   "metadata": {},
   "source": [
    "### change the value"
   ]
  },
  {
   "cell_type": "code",
   "execution_count": null,
   "metadata": {},
   "outputs": [],
   "source": [
    "animals_legs['horse'] = 6\n",
    "animals_legs"
   ]
  },
  {
   "cell_type": "markdown",
   "metadata": {},
   "source": [
    "### add key-value pair"
   ]
  },
  {
   "cell_type": "code",
   "execution_count": null,
   "metadata": {},
   "outputs": [],
   "source": [
    "animals_legs['centipede'] = 100\n",
    "animals_legs"
   ]
  },
  {
   "cell_type": "markdown",
   "metadata": {},
   "source": [
    "### Operations"
   ]
  },
  {
   "cell_type": "code",
   "execution_count": null,
   "metadata": {},
   "outputs": [],
   "source": [
    "animals_legs = {'horse': 4, 'human': 2, 'fish': 0, 'monkey': 3, 'pig': 4}\n",
    "len(animals_legs)"
   ]
  },
  {
   "cell_type": "markdown",
   "metadata": {},
   "source": [
    "### in/ not in"
   ]
  },
  {
   "cell_type": "code",
   "execution_count": null,
   "metadata": {},
   "outputs": [],
   "source": [
    "'turtle' not in animals_legs"
   ]
  },
  {
   "cell_type": "markdown",
   "metadata": {},
   "source": [
    "### Methods"
   ]
  },
  {
   "cell_type": "code",
   "execution_count": null,
   "metadata": {},
   "outputs": [],
   "source": [
    "animals_legs = {'horse': 4, 'human': 2, 'fish': 0, 'monkey': 3, 'pig': 4, 'turtle': 4}\n",
    "animals_legs.get('turtle', 5)\n",
    "# animals_legs['turtle']\n",
    "\n",
    "animals_legs\n",
    "\n",
    "animals_legs.update({'horse': 6})\n",
    "animals_legs['horse'] = 6"
   ]
  },
  {
   "cell_type": "markdown",
   "metadata": {},
   "source": [
    "### delete item"
   ]
  },
  {
   "cell_type": "code",
   "execution_count": null,
   "metadata": {},
   "outputs": [],
   "source": [
    "animals_legs = {'horse': 4, 'human': 2, 'fish': 0, 'monkey': 3, 'pig': 4, 'turtle': 4}\n",
    "# del animals_legs['horse']\n",
    "animals_legs.popitem()\n",
    "animals_legs.pop('horse')\n",
    "animals_legs"
   ]
  },
  {
   "cell_type": "markdown",
   "metadata": {},
   "source": [
    "### loops"
   ]
  },
  {
   "cell_type": "code",
   "execution_count": null,
   "metadata": {},
   "outputs": [],
   "source": [
    "list(animals_legs.items())\n",
    "list(animals_legs.keys())\n",
    "list(animals_legs.values())"
   ]
  },
  {
   "cell_type": "code",
   "execution_count": null,
   "metadata": {},
   "outputs": [],
   "source": [
    "animals_legs = {'horse': 4, 'human': 2, 'fish': 0, 'monkey': 3, 'pig': 4, 'turtle': 4}\n",
    "for key in animals_legs:\n",
    "    print(key)"
   ]
  },
  {
   "cell_type": "code",
   "execution_count": null,
   "metadata": {},
   "outputs": [],
   "source": [
    "for i, element in enumerate(animals_legs):\n",
    "    print(i, element)"
   ]
  },
  {
   "cell_type": "code",
   "execution_count": null,
   "metadata": {},
   "outputs": [],
   "source": [
    "for i, ele in animals_legs.items():\n",
    "    print(i, ele)"
   ]
  },
  {
   "cell_type": "code",
   "execution_count": null,
   "metadata": {},
   "outputs": [],
   "source": [
    "for k in animals_legs.keys():\n",
    "    print(k)"
   ]
  },
  {
   "cell_type": "code",
   "execution_count": null,
   "metadata": {},
   "outputs": [],
   "source": [
    "for v in animals_legs.values():\n",
    "    print(v)"
   ]
  },
  {
   "cell_type": "code",
   "execution_count": null,
   "metadata": {},
   "outputs": [],
   "source": [
    "animals_legs.clear()\n",
    "animals_legs"
   ]
  },
  {
   "cell_type": "code",
   "execution_count": null,
   "metadata": {},
   "outputs": [],
   "source": [
    "l = [3, 2, 1]\n",
    "sorted_l = sorted(l)\n",
    "print(l)"
   ]
  },
  {
   "cell_type": "markdown",
   "metadata": {},
   "source": [
    "# Topic Cover So Far"
   ]
  },
  {
   "cell_type": "markdown",
   "metadata": {},
   "source": [
    "1. - Fundamental\n",
    "2.  - Commenting\n",
    "3.  - Input\n",
    "4.  - Output\n",
    "5.  - Variables\n",
    "6.  - Operation\n",
    "7.  - Condition\n",
    "8.  - Loop\n",
    "9. - Data Structure\n",
    "10.  - String\n",
    "11.  - List\n",
    "12.  - Tuple\n",
    "13.  - Set\n",
    "14.  - Dictionary\n"
   ]
  },
  {
   "cell_type": "markdown",
   "metadata": {},
   "source": [
    "# Code Organization"
   ]
  },
  {
   "cell_type": "markdown",
   "metadata": {},
   "source": [
    "## Function, yes this is maths!"
   ]
  },
  {
   "cell_type": "code",
   "execution_count": null,
   "metadata": {},
   "outputs": [],
   "source": [
    "def print_greeting():\n",
    "    \"\"\"\n",
    "    This function will print hello for 3 times\n",
    "    \"\"\"\n",
    "    print('Hello')\n",
    "    print('Hello')\n",
    "    print('Hello')"
   ]
  },
  {
   "cell_type": "markdown",
   "metadata": {},
   "source": [
    "# Simple input and output"
   ]
  },
  {
   "cell_type": "code",
   "execution_count": null,
   "metadata": {},
   "outputs": [],
   "source": [
    "def greet_person(person_name):\n",
    "    \"\"\"\n",
    "    Receive the name of a person and print out the greeting\n",
    "    sentence. \n",
    "    \"\"\"\n",
    "    print(f\"Hello {person_name}.\")\n",
    "greet_person('Due')"
   ]
  },
  {
   "cell_type": "code",
   "execution_count": null,
   "metadata": {},
   "outputs": [],
   "source": [
    "def give_me_number_3():\n",
    "    return 3\n",
    "\n",
    "print('Start')\n",
    "number = give_me_number3()\n",
    "print(number)\n",
    "print('End')"
   ]
  },
  {
   "cell_type": "code",
   "execution_count": null,
   "metadata": {},
   "outputs": [],
   "source": [
    "def calculate_price(number_of_apple):\n",
    "    apple_price = 60\n",
    "    return number_of_apple * apple_price\n",
    "\n",
    "total_price = calculate_price(4)\n",
    "print(f'The total price is {total_price}')"
   ]
  },
  {
   "cell_type": "code",
   "execution_count": null,
   "metadata": {},
   "outputs": [],
   "source": [
    "def give_me_3_and_5():\n",
    "    return 3, 5\n",
    "\n",
    "print(give_me_3_and_5())\n",
    "numbers = give_me_3_and_5()\n",
    "print(numbers[0] * 5)"
   ]
  },
  {
   "cell_type": "code",
   "execution_count": null,
   "metadata": {},
   "outputs": [],
   "source": [
    "first_num, second_num, third_num = (1, 2, 10)\n",
    "print(first_num)"
   ]
  },
  {
   "cell_type": "code",
   "execution_count": null,
   "metadata": {},
   "outputs": [],
   "source": [
    "def add_two_number(first_num, second_num):\n",
    "    return first_num + second_num"
   ]
  },
  {
   "cell_type": "code",
   "execution_count": null,
   "metadata": {},
   "outputs": [],
   "source": [
    "print(add_two_number(3, 5))"
   ]
  },
  {
   "cell_type": "code",
   "execution_count": 13,
   "metadata": {},
   "outputs": [
    {
     "data": {
      "text/plain": [
       "200"
      ]
     },
     "execution_count": 13,
     "metadata": {},
     "output_type": "execute_result"
    }
   ],
   "source": [
    "def calculate_price_v2(num_apple, apple_price):\n",
    "    return num_apple * apple_price\n",
    "\n",
    "# calculate_price_v2(3, 30)\n",
    "calculate_price_v2(num_apple=10, apple_price=20)"
   ]
  },
  {
   "cell_type": "code",
   "execution_count": null,
   "metadata": {},
   "outputs": [],
   "source": []
  }
 ],
 "metadata": {
  "kernelspec": {
   "display_name": "python_course1",
   "language": "python",
   "name": "python3"
  },
  "language_info": {
   "codemirror_mode": {
    "name": "ipython",
    "version": 3
   },
   "file_extension": ".py",
   "mimetype": "text/x-python",
   "name": "python",
   "nbconvert_exporter": "python",
   "pygments_lexer": "ipython3",
   "version": "3.12.4"
  }
 },
 "nbformat": 4,
 "nbformat_minor": 2
}
